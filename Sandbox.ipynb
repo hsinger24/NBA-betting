{
 "cells": [
  {
   "cell_type": "code",
   "execution_count": 1,
   "metadata": {},
   "outputs": [],
   "source": [
    "from current_season_code.functions import *\n",
    "import pandas as pd\n",
    "import numpy as np\n",
    "from selenium import webdriver\n",
    "from selenium.webdriver.common.keys import Keys\n",
    "from selenium.webdriver.chrome.options import Options\n",
    "from selenium.webdriver.common.by import By\n",
    "from selenium.webdriver.support import expected_conditions as EC\n",
    "from selenium.webdriver.support.ui import WebDriverWait\n",
    "from selenium.webdriver.support.ui import Select\n",
    "from webdriver_manager.chrome import ChromeDriverManager\n",
    "import jupyterthemes as jt"
   ]
  },
  {
   "cell_type": "code",
   "execution_count": 2,
   "metadata": {},
   "outputs": [],
   "source": [
    "bets = pd.read_csv('current_season_data/bets.csv', index_col = 0)\n",
    "bets[['Team1', 'Team2', 'Team1_Prob', 'Team2_Prob', 'Team1_KC', 'Team2_KC', 'Team1_Bet', 'Team2_Bet']]"
   ]
  },
  {
   "cell_type": "code",
   "execution_count": 4,
   "metadata": {},
   "outputs": [
    {
     "data": {
      "text/html": [
       "<div>\n",
       "<style scoped>\n",
       "    .dataframe tbody tr th:only-of-type {\n",
       "        vertical-align: middle;\n",
       "    }\n",
       "\n",
       "    .dataframe tbody tr th {\n",
       "        vertical-align: top;\n",
       "    }\n",
       "\n",
       "    .dataframe thead th {\n",
       "        text-align: right;\n",
       "    }\n",
       "</style>\n",
       "<table border=\"1\" class=\"dataframe\">\n",
       "  <thead>\n",
       "    <tr style=\"text-align: right;\">\n",
       "      <th></th>\n",
       "      <th>Away_Team</th>\n",
       "      <th>Home_Team</th>\n",
       "      <th>Home_Bet</th>\n",
       "      <th>Away_Bet</th>\n",
       "      <th>Home_Bet_Combined</th>\n",
       "      <th>Away_Bet_Combined</th>\n",
       "    </tr>\n",
       "  </thead>\n",
       "  <tbody>\n",
       "    <tr>\n",
       "      <th>0</th>\n",
       "      <td>Magic</td>\n",
       "      <td>Clippers</td>\n",
       "      <td>4251.141113</td>\n",
       "      <td>0</td>\n",
       "      <td>2776.845918</td>\n",
       "      <td>0</td>\n",
       "    </tr>\n",
       "    <tr>\n",
       "      <th>1</th>\n",
       "      <td>Jazz</td>\n",
       "      <td>Wizards</td>\n",
       "      <td>606.642634</td>\n",
       "      <td>0</td>\n",
       "      <td>1550.046051</td>\n",
       "      <td>0</td>\n",
       "    </tr>\n",
       "    <tr>\n",
       "      <th>2</th>\n",
       "      <td>Bulls</td>\n",
       "      <td>Heat</td>\n",
       "      <td>2822.250100</td>\n",
       "      <td>0</td>\n",
       "      <td>2648.628364</td>\n",
       "      <td>0</td>\n",
       "    </tr>\n",
       "    <tr>\n",
       "      <th>3</th>\n",
       "      <td>Rockets</td>\n",
       "      <td>Grizzlies</td>\n",
       "      <td>4409.765781</td>\n",
       "      <td>0</td>\n",
       "      <td>4357.305068</td>\n",
       "      <td>0</td>\n",
       "    </tr>\n",
       "    <tr>\n",
       "      <th>4</th>\n",
       "      <td>Kings</td>\n",
       "      <td>Cavaliers</td>\n",
       "      <td>0.000000</td>\n",
       "      <td>0</td>\n",
       "      <td>0.000000</td>\n",
       "      <td>0</td>\n",
       "    </tr>\n",
       "    <tr>\n",
       "      <th>5</th>\n",
       "      <td>Nuggets</td>\n",
       "      <td>Spurs</td>\n",
       "      <td>1299.453283</td>\n",
       "      <td>0</td>\n",
       "      <td>2208.626254</td>\n",
       "      <td>0</td>\n",
       "    </tr>\n",
       "    <tr>\n",
       "      <th>6</th>\n",
       "      <td>Warriors</td>\n",
       "      <td>76ers</td>\n",
       "      <td>2902.579646</td>\n",
       "      <td>0</td>\n",
       "      <td>606.444811</td>\n",
       "      <td>0</td>\n",
       "    </tr>\n",
       "  </tbody>\n",
       "</table>\n",
       "</div>"
      ],
      "text/plain": [
       "  Away_Team  Home_Team     Home_Bet  Away_Bet  Home_Bet_Combined  \\\n",
       "0     Magic   Clippers  4251.141113         0        2776.845918   \n",
       "1      Jazz    Wizards   606.642634         0        1550.046051   \n",
       "2     Bulls       Heat  2822.250100         0        2648.628364   \n",
       "3   Rockets  Grizzlies  4409.765781         0        4357.305068   \n",
       "4     Kings  Cavaliers     0.000000         0           0.000000   \n",
       "5   Nuggets      Spurs  1299.453283         0        2208.626254   \n",
       "6  Warriors      76ers  2902.579646         0         606.444811   \n",
       "\n",
       "   Away_Bet_Combined  \n",
       "0                  0  \n",
       "1                  0  \n",
       "2                  0  \n",
       "3                  0  \n",
       "4                  0  \n",
       "5                  0  \n",
       "6                  0  "
      ]
     },
     "execution_count": 4,
     "metadata": {},
     "output_type": "execute_result"
    }
   ],
   "source": [
    "bets_external = pd.read_csv('current_season_data/bets_external.csv', index_col = 0)\n",
    "bets_external[['Away_Team', 'Home_Team', 'Home_Bet', 'Away_Bet', 'Home_Bet_Combined', 'Away_Bet_Combined']]"
   ]
  },
  {
   "cell_type": "code",
   "execution_count": 10,
   "metadata": {},
   "outputs": [
    {
     "name": "stderr",
     "output_type": "stream",
     "text": [
      "\n",
      "\n",
      "====== WebDriver manager ======\n",
      "Current google-chrome version is 96.0.4664\n",
      "Get LATEST driver version for 96.0.4664\n",
      "Driver [/Users/hsinger24/.wdm/drivers/chromedriver/mac64/96.0.4664.45/chromedriver] found in cache\n"
     ]
    }
   ],
   "source": [
    "# Getting NBA injuries\n",
    "\n",
    "tables = pd.read_html('https://www.cbssports.com/nba/injuries/')\n",
    "driver = webdriver.Chrome(ChromeDriverManager().install())\n",
    "driver.get('https://www.cbssports.com/nba/injuries/')\n",
    "team_names = driver.find_elements_by_xpath('//*[@id=\"TableBase\"]/h4')\n",
    "table_dict = {}\n",
    "for i in range(len(tables)):\n",
    "    table_dict[team_names[i].text] = tables[i]\n",
    "for key,value in table_dict.items():\n",
    "    value['Player'] = value.Player.str.split()\n",
    "    for index, row in value.iterrows():\n",
    "        if len(row.Player) == 4:\n",
    "            value.loc[index, 'Player'] = row.Player[-1] + ' ' + row.Player[-2]\n",
    "        if len(row.Player) == 6:\n",
    "            value.loc[index, 'Player'] = row.Player[-1] + ' ' + row.Player[-2] + ' ' + row.Player[-3]\n",
    "for key,value in table_dict.items():\n",
    "    value['Player'] = value.Player.str.split()\n",
    "    for index, row in value.iterrows():\n",
    "        if len(row.Player) == 2:\n",
    "            value.loc[index, 'Player'] = row.Player[-1] + ' ' + row.Player[-2]\n",
    "        if len(row.Player) == 3:\n",
    "            value.loc[index, 'Player'] = row.Player[-1] + ' ' + row.Player[-2] + ' ' + row.Player[-3]"
   ]
  },
  {
   "cell_type": "code",
   "execution_count": 11,
   "metadata": {},
   "outputs": [],
   "source": [
    "# Getting NBA stats\n",
    "\n"
   ]
  },
  {
   "cell_type": "code",
   "execution_count": null,
   "metadata": {},
   "outputs": [],
   "source": []
  }
 ],
 "metadata": {
  "kernelspec": {
   "display_name": "Python 3",
   "language": "python",
   "name": "python3"
  },
  "language_info": {
   "codemirror_mode": {
    "name": "ipython",
    "version": 3
   },
   "file_extension": ".py",
   "mimetype": "text/x-python",
   "name": "python",
   "nbconvert_exporter": "python",
   "pygments_lexer": "ipython3",
   "version": "3.7.6"
  }
 },
 "nbformat": 4,
 "nbformat_minor": 4
}
