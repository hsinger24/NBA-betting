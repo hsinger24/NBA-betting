{
 "cells": [
  {
   "cell_type": "code",
   "execution_count": 1,
   "metadata": {},
   "outputs": [],
   "source": [
    "from current_season_code.functions import *"
   ]
  },
  {
   "cell_type": "code",
   "execution_count": 21,
   "metadata": {},
   "outputs": [],
   "source": [
    "yesterdays_bets = pd.read_csv('current_season_data/bets.csv', index_col = 0)\n",
    "formatted_data = pd.read_csv('current_season_data/formatted_data_1.csv', index_col = 0)"
   ]
  },
  {
   "cell_type": "code",
   "execution_count": 22,
   "metadata": {},
   "outputs": [],
   "source": [
    "yesterdays_capital = 100000\n",
    "yesterday = dt.date.today() - dt.timedelta(days = 1)\n",
    "yesterday = str(yesterday)\n",
    "yesterdays_games = formatted_data[formatted_data.Date==yesterday]"
   ]
  },
  {
   "cell_type": "code",
   "execution_count": 23,
   "metadata": {},
   "outputs": [],
   "source": [
    "yesterdays_winners = list()\n",
    "for index, row in yesterdays_games.iterrows():\n",
    "    if row.PTS>row.PTS_Opp:\n",
    "        yesterdays_winners.append(row.Team)\n",
    "    else:\n",
    "        yesterdays_winners.append(row.Team_Opp)"
   ]
  },
  {
   "cell_type": "code",
   "execution_count": 27,
   "metadata": {},
   "outputs": [],
   "source": [
    "results = pd.DataFrame()\n",
    "yesterdays_bets['Won_Bet'] = 0\n",
    "yesterdays_bets['Money_Tracker'] = 0\n",
    "for index, row in yesterdays_bets.iterrows():\n",
    "    if (row.Team1_Bet<=0) & (row.Team2_Bet<=0):\n",
    "        yesterdays_bets.loc[index, 'Won_Bet'] = -1\n",
    "    if row.Team1_Bet>0:\n",
    "        if row.Team1 in yesterdays_winners:\n",
    "            yesterdays_bets.loc[index, 'Won_Bet'] = 1\n",
    "    if row.Team2_Bet>0:\n",
    "        if row.Team2 in yesterdays_winners:\n",
    "            yesterdays_bets.loc[index, 'Won_Bet'] = 1\n",
    "    \n",
    "    if index==0:\n",
    "        if yesterdays_bets.loc[index, 'Won_Bet']==1:\n",
    "            yesterdays_bets.loc[index, 'Money_Tracker'] = yesterdays_capital + row.Team1_Payoff + row.Team2_Payoff\n",
    "        else:\n",
    "            yesterdays_bets.loc[index, 'Money_Tracker'] = yesterdays_capital - row.Team1_Bet - row.Team2_Bet\n",
    "    else:\n",
    "        if yesterdays_bets.loc[index, 'Won_Bet']==1:\n",
    "            yesterdays_bets.loc[index, 'Money_Tracker'] = yesterdays_bets.loc[(index-1), 'Money_Tracker'] + row.Team1_Payoff + row.Team2_Payoff\n",
    "        else:\n",
    "            yesterdays_bets.loc[index, 'Money_Tracker'] = yesterdays_bets.loc[(index-1), 'Money_Tracker'] - row.Team1_Bet - row.Team2_Bet"
   ]
  },
  {
   "cell_type": "code",
   "execution_count": 28,
   "metadata": {},
   "outputs": [
    {
     "name": "stdout",
     "output_type": "stream",
     "text": [
      "Today's capital is 100653.26650930694\n"
     ]
    }
   ],
   "source": [
    "string = f\"Today's capital is {yesterdays_bets.loc[len(yesterdays_bets)-1, 'Money_Tracker']}\"\n",
    "print(string)"
   ]
  },
  {
   "cell_type": "code",
   "execution_count": 30,
   "metadata": {},
   "outputs": [
    {
     "name": "stdout",
     "output_type": "stream",
     "text": [
      "Today's capital is 0.0\n"
     ]
    }
   ],
   "source": [
    "calculate_bet_results(100000)"
   ]
  },
  {
   "cell_type": "code",
   "execution_count": null,
   "metadata": {},
   "outputs": [],
   "source": []
  }
 ],
 "metadata": {
  "kernelspec": {
   "display_name": "Python 3",
   "language": "python",
   "name": "python3"
  },
  "language_info": {
   "codemirror_mode": {
    "name": "ipython",
    "version": 3
   },
   "file_extension": ".py",
   "mimetype": "text/x-python",
   "name": "python",
   "nbconvert_exporter": "python",
   "pygments_lexer": "ipython3",
   "version": "3.7.6"
  }
 },
 "nbformat": 4,
 "nbformat_minor": 4
}
