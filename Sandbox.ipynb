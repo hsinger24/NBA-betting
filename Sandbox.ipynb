{
 "cells": [
  {
   "cell_type": "code",
   "execution_count": 1,
   "metadata": {},
   "outputs": [],
   "source": [
    "from current_season_code.functions import *\n",
    "import pandas as pd\n",
    "import numpy as np\n",
    "from selenium import webdriver\n",
    "from selenium.webdriver.common.keys import Keys\n",
    "from selenium.webdriver.chrome.options import Options\n",
    "from selenium.webdriver.common.by import By\n",
    "from selenium.webdriver.support import expected_conditions as EC\n",
    "from selenium.webdriver.support.ui import WebDriverWait\n",
    "from selenium.webdriver.support.ui import Select\n",
    "from webdriver_manager.chrome import ChromeDriverManager\n",
    "import jupyterthemes as jt"
   ]
  },
  {
   "cell_type": "code",
   "execution_count": 8,
   "metadata": {},
   "outputs": [],
   "source": [
    "bets = pd.read_csv('current_season_data/bets.csv', index_col = 0)"
   ]
  },
  {
   "cell_type": "code",
   "execution_count": 9,
   "metadata": {},
   "outputs": [
    {
     "data": {
      "text/html": [
       "<div>\n",
       "<style scoped>\n",
       "    .dataframe tbody tr th:only-of-type {\n",
       "        vertical-align: middle;\n",
       "    }\n",
       "\n",
       "    .dataframe tbody tr th {\n",
       "        vertical-align: top;\n",
       "    }\n",
       "\n",
       "    .dataframe thead th {\n",
       "        text-align: right;\n",
       "    }\n",
       "</style>\n",
       "<table border=\"1\" class=\"dataframe\">\n",
       "  <thead>\n",
       "    <tr style=\"text-align: right;\">\n",
       "      <th></th>\n",
       "      <th>Team1</th>\n",
       "      <th>Team2</th>\n",
       "      <th>Team1_Prob</th>\n",
       "      <th>Team2_Prob</th>\n",
       "      <th>Team1_KC</th>\n",
       "      <th>Team2_KC</th>\n",
       "      <th>Team1_Bet</th>\n",
       "      <th>Team2_Bet</th>\n",
       "    </tr>\n",
       "  </thead>\n",
       "  <tbody>\n",
       "    <tr>\n",
       "      <th>0</th>\n",
       "      <td>Mavericks</td>\n",
       "      <td>Nets</td>\n",
       "      <td>0.545305</td>\n",
       "      <td>0.454695</td>\n",
       "      <td>0.019129</td>\n",
       "      <td>0</td>\n",
       "      <td>1486.801750</td>\n",
       "      <td>0</td>\n",
       "    </tr>\n",
       "    <tr>\n",
       "      <th>1</th>\n",
       "      <td>Spurs</td>\n",
       "      <td>Knicks</td>\n",
       "      <td>0.579904</td>\n",
       "      <td>0.420096</td>\n",
       "      <td>0.021804</td>\n",
       "      <td>0</td>\n",
       "      <td>1694.747618</td>\n",
       "      <td>0</td>\n",
       "    </tr>\n",
       "    <tr>\n",
       "      <th>2</th>\n",
       "      <td>Lakers</td>\n",
       "      <td>Celtics</td>\n",
       "      <td>0.572422</td>\n",
       "      <td>0.427578</td>\n",
       "      <td>0.000000</td>\n",
       "      <td>0</td>\n",
       "      <td>0.000000</td>\n",
       "      <td>0</td>\n",
       "    </tr>\n",
       "  </tbody>\n",
       "</table>\n",
       "</div>"
      ],
      "text/plain": [
       "       Team1    Team2  Team1_Prob  Team2_Prob  Team1_KC  Team2_KC  \\\n",
       "0  Mavericks     Nets    0.545305    0.454695  0.019129         0   \n",
       "1      Spurs   Knicks    0.579904    0.420096  0.021804         0   \n",
       "2     Lakers  Celtics    0.572422    0.427578  0.000000         0   \n",
       "\n",
       "     Team1_Bet  Team2_Bet  \n",
       "0  1486.801750          0  \n",
       "1  1694.747618          0  \n",
       "2     0.000000          0  "
      ]
     },
     "execution_count": 9,
     "metadata": {},
     "output_type": "execute_result"
    }
   ],
   "source": [
    "bets[['Team1', 'Team2', 'Team1_Prob', 'Team2_Prob', 'Team1_KC', 'Team2_KC', 'Team1_Bet', 'Team2_Bet']]"
   ]
  },
  {
   "cell_type": "code",
   "execution_count": 10,
   "metadata": {},
   "outputs": [
    {
     "name": "stderr",
     "output_type": "stream",
     "text": [
      "\n",
      "\n",
      "====== WebDriver manager ======\n",
      "Current google-chrome version is 96.0.4664\n",
      "Get LATEST driver version for 96.0.4664\n",
      "Driver [/Users/hsinger24/.wdm/drivers/chromedriver/mac64/96.0.4664.45/chromedriver] found in cache\n"
     ]
    }
   ],
   "source": [
    "# Getting NBA injuries\n",
    "\n",
    "tables = pd.read_html('https://www.cbssports.com/nba/injuries/')\n",
    "driver = webdriver.Chrome(ChromeDriverManager().install())\n",
    "driver.get('https://www.cbssports.com/nba/injuries/')\n",
    "team_names = driver.find_elements_by_xpath('//*[@id=\"TableBase\"]/h4')\n",
    "table_dict = {}\n",
    "for i in range(len(tables)):\n",
    "    table_dict[team_names[i].text] = tables[i]\n",
    "for key,value in table_dict.items():\n",
    "    value['Player'] = value.Player.str.split()\n",
    "    for index, row in value.iterrows():\n",
    "        if len(row.Player) == 4:\n",
    "            value.loc[index, 'Player'] = row.Player[-1] + ' ' + row.Player[-2]\n",
    "        if len(row.Player) == 6:\n",
    "            value.loc[index, 'Player'] = row.Player[-1] + ' ' + row.Player[-2] + ' ' + row.Player[-3]\n",
    "for key,value in table_dict.items():\n",
    "    value['Player'] = value.Player.str.split()\n",
    "    for index, row in value.iterrows():\n",
    "        if len(row.Player) == 2:\n",
    "            value.loc[index, 'Player'] = row.Player[-1] + ' ' + row.Player[-2]\n",
    "        if len(row.Player) == 3:\n",
    "            value.loc[index, 'Player'] = row.Player[-1] + ' ' + row.Player[-2] + ' ' + row.Player[-3]"
   ]
  },
  {
   "cell_type": "code",
   "execution_count": 11,
   "metadata": {},
   "outputs": [],
   "source": [
    "# Getting NBA stats\n",
    "\n"
   ]
  },
  {
   "cell_type": "code",
   "execution_count": null,
   "metadata": {},
   "outputs": [],
   "source": []
  }
 ],
 "metadata": {
  "kernelspec": {
   "display_name": "Python 3",
   "language": "python",
   "name": "python3"
  },
  "language_info": {
   "codemirror_mode": {
    "name": "ipython",
    "version": 3
   },
   "file_extension": ".py",
   "mimetype": "text/x-python",
   "name": "python",
   "nbconvert_exporter": "python",
   "pygments_lexer": "ipython3",
   "version": "3.7.6"
  }
 },
 "nbformat": 4,
 "nbformat_minor": 4
}
