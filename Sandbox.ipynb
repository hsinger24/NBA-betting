{
 "cells": [
  {
   "cell_type": "code",
   "execution_count": 1,
   "metadata": {},
   "outputs": [],
   "source": [
    "from current_season_code.functions import *\n",
    "import pandas as pd\n",
    "import numpy as np\n",
    "from selenium import webdriver\n",
    "from selenium.webdriver.common.keys import Keys\n",
    "from selenium.webdriver.chrome.options import Options\n",
    "from selenium.webdriver.common.by import By\n",
    "from selenium.webdriver.support import expected_conditions as EC\n",
    "from selenium.webdriver.support.ui import WebDriverWait\n",
    "from selenium.webdriver.support.ui import Select\n",
    "from webdriver_manager.chrome import ChromeDriverManager\n",
    "import jupyterthemes as jt"
   ]
  },
  {
   "cell_type": "code",
   "execution_count": 5,
   "metadata": {},
   "outputs": [],
   "source": [
    "bets = pd.read_csv('current_season_data/bets.csv', index_col = 0)\n",
    "bets[['Team1', 'Team2', 'Team1_Prob', 'Team2_Prob', 'Team1_KC', 'Team2_KC', 'Team1_Bet', 'Team2_Bet']]\n",
    "bets.reset_index(inplace = True, drop = True)\n",
    "bets.to_csv('current_season_data/bets.csv')"
   ]
  },
  {
   "cell_type": "code",
   "execution_count": 6,
   "metadata": {},
   "outputs": [],
   "source": [
    "bets_external = pd.read_csv('current_season_data/bets_external.csv', index_col = 0)\n",
    "bets_external[['Away_Team', 'Home_Team', 'Home_Bet', 'Away_Bet', 'Home_Bet_Combined', 'Away_Bet_Combined']]\n",
    "bets_external.reset_index(drop = True, inplace = True)\n",
    "bets_external.to_csv('current_season_data/bets_external.csv')"
   ]
  },
  {
   "cell_type": "code",
   "execution_count": 11,
   "metadata": {},
   "outputs": [],
   "source": [
    "odds = pd.read_csv('current_season_data/yesterday_odds.csv', index_col = 0)"
   ]
  },
  {
   "cell_type": "code",
   "execution_count": 10,
   "metadata": {},
   "outputs": [
    {
     "name": "stderr",
     "output_type": "stream",
     "text": [
      "\n",
      "\n",
      "====== WebDriver manager ======\n",
      "Current google-chrome version is 96.0.4664\n",
      "Get LATEST driver version for 96.0.4664\n",
      "Driver [/Users/hsinger24/.wdm/drivers/chromedriver/mac64/96.0.4664.45/chromedriver] found in cache\n"
     ]
    }
   ],
   "source": [
    "# Getting NBA injuries\n",
    "\n",
    "tables = pd.read_html('https://www.cbssports.com/nba/injuries/')\n",
    "driver = webdriver.Chrome(ChromeDriverManager().install())\n",
    "driver.get('https://www.cbssports.com/nba/injuries/')\n",
    "team_names = driver.find_elements_by_xpath('//*[@id=\"TableBase\"]/h4')\n",
    "table_dict = {}\n",
    "for i in range(len(tables)):\n",
    "    table_dict[team_names[i].text] = tables[i]\n",
    "for key,value in table_dict.items():\n",
    "    value['Player'] = value.Player.str.split()\n",
    "    for index, row in value.iterrows():\n",
    "        if len(row.Player) == 4:\n",
    "            value.loc[index, 'Player'] = row.Player[-1] + ' ' + row.Player[-2]\n",
    "        if len(row.Player) == 6:\n",
    "            value.loc[index, 'Player'] = row.Player[-1] + ' ' + row.Player[-2] + ' ' + row.Player[-3]\n",
    "for key,value in table_dict.items():\n",
    "    value['Player'] = value.Player.str.split()\n",
    "    for index, row in value.iterrows():\n",
    "        if len(row.Player) == 2:\n",
    "            value.loc[index, 'Player'] = row.Player[-1] + ' ' + row.Player[-2]\n",
    "        if len(row.Player) == 3:\n",
    "            value.loc[index, 'Player'] = row.Player[-1] + ' ' + row.Player[-2] + ' ' + row.Player[-3]"
   ]
  },
  {
   "cell_type": "code",
   "execution_count": 11,
   "metadata": {},
   "outputs": [],
   "source": [
    "# Getting NBA stats\n",
    "\n"
   ]
  },
  {
   "cell_type": "code",
   "execution_count": null,
   "metadata": {},
   "outputs": [],
   "source": []
  }
 ],
 "metadata": {
  "kernelspec": {
   "display_name": "Python 3",
   "language": "python",
   "name": "python3"
  },
  "language_info": {
   "codemirror_mode": {
    "name": "ipython",
    "version": 3
   },
   "file_extension": ".py",
   "mimetype": "text/x-python",
   "name": "python",
   "nbconvert_exporter": "python",
   "pygments_lexer": "ipython3",
   "version": "3.7.6"
  }
 },
 "nbformat": 4,
 "nbformat_minor": 4
}
