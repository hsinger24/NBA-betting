{
 "cells": [
  {
   "cell_type": "code",
   "execution_count": 1,
   "metadata": {},
   "outputs": [],
   "source": [
    "from current_season_code.functions import *\n",
    "import datetime as dt"
   ]
  },
  {
   "cell_type": "code",
   "execution_count": 6,
   "metadata": {},
   "outputs": [
    {
     "name": "stdout",
     "output_type": "stream",
     "text": [
      "(110, 97)\n"
     ]
    }
   ],
   "source": [
    "formatted_data = format_api_data(2021)\n",
    "formatted_data.drop_duplicates(subset = ['GAME_ID_x'], inplace = True)\n",
    "formatted_data.reset_index(drop = True, inplace = True)\n",
    "columns = list(formatted_data.columns)\n",
    "data = formatted_data[['Date_y']+columns[:-7]+columns[-6:]]\n",
    "columns = ['Date', 'GAME_ID', 'TEAM_NAME', 'TEAM_NAME_Opp', 'FGM', 'FGA',\n",
    "       'FG_PCT', 'FG3M', 'FG3A', 'FG3_PCT', 'FTM', 'FTA',\n",
    "       'FT_PCT', 'OREB', 'DREB', 'REB', 'AST', 'STL', 'BLK',\n",
    "       'TO', 'PF', 'PTS', 'PLUS_MINUS', 'E_OFF_RATING',\n",
    "       'OFF_RATING', 'E_DEF_RATING', 'DEF_RATING', 'E_NET_RATING',\n",
    "       'NET_RATING', 'AST_PCT', 'AST_TOV', 'AST_RATIO', 'OREB_PCT',\n",
    "       'DREB_PCT', 'REB_PCT', 'E_TM_TOV_PCT', 'TM_TOV_PCT',\n",
    "       'EFG_PCT', 'TS_PCT', 'USG_PCT', 'E_USG_PCT', 'E_PACE',\n",
    "       'PACE', 'PACE_PER40', 'POSS', 'PIE', 'drop_1', 'drop_2',\n",
    "       'drop_3', 'FGM_Opp', 'FGA_Opp', 'FG_PCT_Opp', 'FG3M_Opp', 'FG3A_Opp',\n",
    "       'FG3_PCT_Opp', 'FTM_Opp', 'FTA_Opp', 'FT_PCT_Opp', 'OREB_Opp', 'DREB_Opp', 'REB_Opp',\n",
    "       'AST_Opp', 'STL_Opp', 'BLK_Opp', 'TO_Opp', 'PF_Opp', 'PTS_Opp', 'PLUS_MINUS_Opp',\n",
    "       'E_OFF_RATING_Opp', 'OFF_RATING_Opp', 'E_DEF_RATING_Opp', 'DEF_RATING_Opp',\n",
    "       'E_NET_RATING_Opp', 'NET_RATING_Opp', 'AST_PCT_Opp', 'AST_TOV_Opp',\n",
    "       'AST_RATIO_Opp', 'OREB_PCT_Opp', 'DREB_PCT_Opp', 'REB_PCT_Opp',\n",
    "       'E_TM_TOV_PCT_Opp', 'TM_TOV_PCT_Opp', 'EFG_PCT_Opp', 'TS_PCT_Opp', 'USG_PCT_Opp',\n",
    "       'E_USG_PCT_Opp', 'E_PACE_Opp', 'PACE_Opp', 'PACE_PER40_Opp', 'POSS_Opp', 'PIE_Opp',\n",
    "       'Wins', 'Losses', 'Wins_Opp', 'Losses_Opp',\n",
    "       'Win_Pct', 'Win_Pct_Opp']\n",
    "data.columns = columns\n",
    "odds_yesterday = pd.read_csv('current_season_data/yesterday_odds.csv', index_col = 0)\n",
    "odds_yesterday['GAME_ID'] = 0\n",
    "odds_yesterday\n",
    "yesterday = dt.date.today() - dt.timedelta(days = 1)\n",
    "yesterday = str(yesterday)\n",
    "yesterday_formatted = data[data.Date==yesterday]\n",
    "yesterday_formatted\n",
    "teams = list(yesterday_formatted['TEAM_NAME'])\n",
    "teams_opp = list(yesterday_formatted['TEAM_NAME_Opp'])\n",
    "for index, row in odds_yesterday.iterrows():\n",
    "    if row.Home_Team in teams:\n",
    "        location = teams.index(row.Home_Team)\n",
    "        team = teams[location]\n",
    "        game_id = yesterday_formatted[yesterday_formatted.TEAM_NAME==team]['GAME_ID'].values[0]\n",
    "        odds_yesterday.loc[index, 'GAME_ID'] = game_id\n",
    "    else:\n",
    "        location = teams_opp.index(row.Home_Team)\n",
    "        team = teams[location]\n",
    "        game_id = yesterday_formatted[yesterday_formatted.TEAM_NAME==team]['GAME_ID'].values[0]\n",
    "        odds_yesterday.loc[index, 'GAME_ID'] = game_id\n",
    "merged = pd.merge(yesterday_formatted, odds_yesterday, on = 'GAME_ID')\n",
    "columns = list(merged.columns)\n",
    "merged = merged[['GAME_ID', 'Date_x', 'Away_Team', 'Home_Odds', 'Home_Team', 'Away_Odds']+columns[1:-7]]\n",
    "merged = merged.loc[:,~merged.columns.duplicated()]\n",
    "merged.columns = ['Game_ID', 'Date', 'Away_Team', 'ML_Home', 'Home_Team', 'ML_Away', 'Team', 'Team_Opp',\n",
    "    'FGM', 'FGA', 'FG_PCT', 'FG3M', 'FG3A', 'FG3_PCT', 'FTM', 'FTA', 'FT_PCT', 'OREB', 'DREB','REB', 'AST',\n",
    "    'STL', 'BLK', 'TO', 'PF', 'PTS', 'PLUS_MINUS', 'E_OFF_RATING', 'OFF_RATING', 'E_DEF_RATING', 'DEF_RATING',\n",
    "    'E_NET_RATING', 'NET_RATING', 'AST_PCT', 'AST_TOV', 'AST_RATIO', 'OREB_PCT', 'DREB_PCT', 'REB_PCT', 'E_TM_TOV_PCT',\n",
    "    'TM_TOV_PCT', 'EFG_PCT', 'TS_PCT', 'USG_PCT', 'E_USG_PCT', 'E_PACE', 'PACE', 'PACE_PER40', 'POSS', 'PIE',\n",
    "    'drop_1', 'drop_2', 'drop_3','FGM_Opp', 'FGA_Opp', 'FG_PCT_Opp', 'FG3M_Opp','FG3A_Opp', 'FG3_PCT_Opp',\n",
    "    'FTM_Opp','FTA_Opp', 'FT_PCT_Opp', 'OREB_Opp', 'DREB_Opp', 'REB_Opp', 'AST_Opp','STL_Opp', 'BLK_Opp', 'TO_Opp',\n",
    "    'PF_Opp', 'PTS_Opp', 'PLUS_MINUS_Opp', 'E_OFF_RATING_Opp', 'OFF_RATING_Opp', 'E_DEF_RATING_Opp', 'DEF_RATING_Opp',\n",
    "    'E_NET_RATING_Opp', 'NET_RATING_Opp', 'AST_PCT_Opp', 'AST_TOV_Opp', 'AST_RATIO_Opp', 'OREB_PCT_Opp', 'DREB_PCT_Opp',\n",
    "    'REB_PCT_Opp', 'E_TM_TOV_PCT_Opp', 'TM_TOV_PCT_Opp', 'EFG_PCT_Opp', 'TS_PCT_Opp', 'USG_PCT_Opp', 'E_USG_PCT_Opp',\n",
    "    'E_PACE_Opp', 'PACE_Opp', 'PACE_PER40_Opp', 'POSS_Opp', 'PIE_Opp', 'Wins', 'Losses', 'Wins_Opp', 'Losses_Opp',\n",
    "    'Win_Pct', 'Win_Pct_Opp']\n",
    "# merged.drop(['drop_1', 'drop_2', 'drop_3'], axis = 1, inplace = True)\n",
    "# merged['Date'] = pd.to_datetime(merged.Date)\n",
    "# merged['is_B2B'] = 0\n",
    "# merged['is_B2B_Opp'] = 0\n",
    "# merged['is_B2B_First'] = 0\n",
    "# merged['is_B2B_First_Opp'] = 0\n",
    "# merged['is_B2B_Second'] = 0\n",
    "# merged['is_B2B_Second_Opp'] = 0\n",
    "# merged['Days_Rest_Team'] = 0\n",
    "# merged['Days_Next Game'] = 0\n",
    "# merged['Days_Rest_Team_Opp'] = 0\n",
    "# merged['Days_Next Game_Opp'] = 0\n",
    "# merged['is_Home'] = 0\n",
    "# merged['is_Home_Opp'] = 0"
   ]
  },
  {
   "cell_type": "code",
   "execution_count": 20,
   "metadata": {},
   "outputs": [],
   "source": [
    "odds = pd.read_csv('../odds.csv', index_col = 0)\n",
    "merged = pd.merge(data, odds, on = 'GAME_ID')\n",
    "columns = list(merged.columns)\n",
    "merged = merged[['GAME_ID', 'Date_x', 'Away_Team', 'Home_Odds', 'Home_Team', 'Away_Odds']+columns[1:-7]]\n",
    "merged = merged.loc[:,~merged.columns.duplicated()]\n",
    "merged.columns = ['Game_ID', 'Date', 'Away_Team', 'ML_Home', 'Home_Team', 'ML_Away', 'Team', 'Team_Opp',\n",
    "    'FGM', 'FGA', 'FG_PCT', 'FG3M', 'FG3A', 'FG3_PCT', 'FTM', 'FTA', 'FT_PCT', 'OREB', 'DREB','REB', 'AST',\n",
    "    'STL', 'BLK', 'TO', 'PF', 'PTS', 'PLUS_MINUS', 'E_OFF_RATING', 'OFF_RATING', 'E_DEF_RATING', 'DEF_RATING',\n",
    "    'E_NET_RATING', 'NET_RATING', 'AST_PCT', 'AST_TOV', 'AST_RATIO', 'OREB_PCT', 'DREB_PCT', 'REB_PCT', 'E_TM_TOV_PCT',\n",
    "    'TM_TOV_PCT', 'EFG_PCT', 'TS_PCT', 'USG_PCT', 'E_USG_PCT', 'E_PACE', 'PACE', 'PACE_PER40', 'POSS', 'PIE',\n",
    "    'drop_1', 'drop_2', 'drop_3','FGM_Opp', 'FGA_Opp', 'FG_PCT_Opp', 'FG3M_Opp','FG3A_Opp', 'FG3_PCT_Opp',\n",
    "    'FTM_Opp','FTA_Opp', 'FT_PCT_Opp', 'OREB_Opp', 'DREB_Opp', 'REB_Opp', 'AST_Opp','STL_Opp', 'BLK_Opp', 'TO_Opp',\n",
    "    'PF_Opp', 'PTS_Opp', 'PLUS_MINUS_Opp', 'E_OFF_RATING_Opp', 'OFF_RATING_Opp', 'E_DEF_RATING_Opp', 'DEF_RATING_Opp',\n",
    "    'E_NET_RATING_Opp', 'NET_RATING_Opp', 'AST_PCT_Opp', 'AST_TOV_Opp', 'AST_RATIO_Opp', 'OREB_PCT_Opp', 'DREB_PCT_Opp',\n",
    "    'REB_PCT_Opp', 'E_TM_TOV_PCT_Opp', 'TM_TOV_PCT_Opp', 'EFG_PCT_Opp', 'TS_PCT_Opp', 'USG_PCT_Opp', 'E_USG_PCT_Opp',\n",
    "    'E_PACE_Opp', 'PACE_Opp', 'PACE_PER40_Opp', 'POSS_Opp', 'PIE_Opp', 'Wins', 'Losses', 'Wins_Opp', 'Losses_Opp',\n",
    "    'Win_Pct', 'Win_Pct_Opp']\n",
    "merged.drop(['drop_1', 'drop_2', 'drop_3'], axis = 1, inplace = True)\n",
    "merged['Date'] = pd.to_datetime(merged.Date)"
   ]
  },
  {
   "cell_type": "code",
   "execution_count": 22,
   "metadata": {},
   "outputs": [],
   "source": [
    "merged.to_csv('current_season_data/formatted_data_1.csv')"
   ]
  },
  {
   "cell_type": "code",
   "execution_count": null,
   "metadata": {},
   "outputs": [],
   "source": []
  }
 ],
 "metadata": {
  "kernelspec": {
   "display_name": "Python 3",
   "language": "python",
   "name": "python3"
  },
  "language_info": {
   "codemirror_mode": {
    "name": "ipython",
    "version": 3
   },
   "file_extension": ".py",
   "mimetype": "text/x-python",
   "name": "python",
   "nbconvert_exporter": "python",
   "pygments_lexer": "ipython3",
   "version": "3.7.6"
  }
 },
 "nbformat": 4,
 "nbformat_minor": 4
}
