{
 "cells": [
  {
   "cell_type": "code",
   "execution_count": 1,
   "metadata": {},
   "outputs": [],
   "source": [
    "from current_season_code.functions import *"
   ]
  },
  {
   "cell_type": "code",
   "execution_count": 60,
   "metadata": {},
   "outputs": [],
   "source": [
    "todays_stats = pd.read_csv('current_season_data/todays_stats.csv', index_col = 0)\n",
    "training_dataset = pd.read_csv('Model_Build/data/final_dataset.csv', index_col = 0)"
   ]
  },
  {
   "cell_type": "code",
   "execution_count": 67,
   "metadata": {},
   "outputs": [
    {
     "data": {
      "text/html": [
       "<div>\n",
       "<style scoped>\n",
       "    .dataframe tbody tr th:only-of-type {\n",
       "        vertical-align: middle;\n",
       "    }\n",
       "\n",
       "    .dataframe tbody tr th {\n",
       "        vertical-align: top;\n",
       "    }\n",
       "\n",
       "    .dataframe thead th {\n",
       "        text-align: right;\n",
       "    }\n",
       "</style>\n",
       "<table border=\"1\" class=\"dataframe\">\n",
       "  <thead>\n",
       "    <tr style=\"text-align: right;\">\n",
       "      <th></th>\n",
       "      <th>Game_ID</th>\n",
       "      <th>Date</th>\n",
       "      <th>Team1</th>\n",
       "      <th>Team2</th>\n",
       "      <th>Team1_FGM_Per100_Agg</th>\n",
       "      <th>Team1_FGA_Per100_Agg</th>\n",
       "      <th>Team1_FG_PCT_Agg</th>\n",
       "      <th>Team1_FG3M_Per100_Agg</th>\n",
       "      <th>Team1_FG3A_Per100_Agg</th>\n",
       "      <th>Team1_FG3_PCT_Agg</th>\n",
       "      <th>...</th>\n",
       "      <th>Team2_PIE_Agg_Opp</th>\n",
       "      <th>Team2_Wins_Opp</th>\n",
       "      <th>Team2_Losses_Opp</th>\n",
       "      <th>Team2_Win_Pct_Opp</th>\n",
       "      <th>Team2_is_B2B_Opp</th>\n",
       "      <th>Team2_is_B2B_First_Opp</th>\n",
       "      <th>Team2_is_B2B_Second_Opp</th>\n",
       "      <th>Team2_Days_Rest_Team_Opp</th>\n",
       "      <th>Team2_Days_Next Game_Opp</th>\n",
       "      <th>Team2_is_Home_Opp</th>\n",
       "    </tr>\n",
       "  </thead>\n",
       "  <tbody>\n",
       "    <tr>\n",
       "      <th>0</th>\n",
       "      <td>0</td>\n",
       "      <td>2021-11-11</td>\n",
       "      <td>76ers</td>\n",
       "      <td>Raptors</td>\n",
       "      <td>42.416315</td>\n",
       "      <td>88.872174</td>\n",
       "      <td>0.480083</td>\n",
       "      <td>13.597066</td>\n",
       "      <td>35.822088</td>\n",
       "      <td>0.391083</td>\n",
       "      <td>...</td>\n",
       "      <td>0.532500</td>\n",
       "      <td>8.0</td>\n",
       "      <td>4.0</td>\n",
       "      <td>0.666667</td>\n",
       "      <td>0</td>\n",
       "      <td>0</td>\n",
       "      <td>0</td>\n",
       "      <td>2.0</td>\n",
       "      <td>2.0</td>\n",
       "      <td>1</td>\n",
       "    </tr>\n",
       "    <tr>\n",
       "      <th>1</th>\n",
       "      <td>0</td>\n",
       "      <td>2021-11-11</td>\n",
       "      <td>Jazz</td>\n",
       "      <td>Pacers</td>\n",
       "      <td>40.356324</td>\n",
       "      <td>88.119641</td>\n",
       "      <td>0.459000</td>\n",
       "      <td>13.955361</td>\n",
       "      <td>42.997953</td>\n",
       "      <td>0.324818</td>\n",
       "      <td>...</td>\n",
       "      <td>0.555818</td>\n",
       "      <td>8.0</td>\n",
       "      <td>3.0</td>\n",
       "      <td>0.727273</td>\n",
       "      <td>0</td>\n",
       "      <td>0</td>\n",
       "      <td>0</td>\n",
       "      <td>2.0</td>\n",
       "      <td>2.0</td>\n",
       "      <td>1</td>\n",
       "    </tr>\n",
       "    <tr>\n",
       "      <th>2</th>\n",
       "      <td>0</td>\n",
       "      <td>2021-11-11</td>\n",
       "      <td>Clippers</td>\n",
       "      <td>Heat</td>\n",
       "      <td>38.995000</td>\n",
       "      <td>87.707186</td>\n",
       "      <td>0.447900</td>\n",
       "      <td>13.862997</td>\n",
       "      <td>38.232628</td>\n",
       "      <td>0.364800</td>\n",
       "      <td>...</td>\n",
       "      <td>0.533600</td>\n",
       "      <td>6.0</td>\n",
       "      <td>4.0</td>\n",
       "      <td>0.600000</td>\n",
       "      <td>0</td>\n",
       "      <td>0</td>\n",
       "      <td>0</td>\n",
       "      <td>2.0</td>\n",
       "      <td>2.0</td>\n",
       "      <td>1</td>\n",
       "    </tr>\n",
       "  </tbody>\n",
       "</table>\n",
       "<p>3 rows × 208 columns</p>\n",
       "</div>"
      ],
      "text/plain": [
       "   Game_ID        Date     Team1    Team2  Team1_FGM_Per100_Agg  \\\n",
       "0        0  2021-11-11     76ers  Raptors             42.416315   \n",
       "1        0  2021-11-11      Jazz   Pacers             40.356324   \n",
       "2        0  2021-11-11  Clippers     Heat             38.995000   \n",
       "\n",
       "   Team1_FGA_Per100_Agg  Team1_FG_PCT_Agg  Team1_FG3M_Per100_Agg  \\\n",
       "0             88.872174          0.480083              13.597066   \n",
       "1             88.119641          0.459000              13.955361   \n",
       "2             87.707186          0.447900              13.862997   \n",
       "\n",
       "   Team1_FG3A_Per100_Agg  Team1_FG3_PCT_Agg  ...  Team2_PIE_Agg_Opp  \\\n",
       "0              35.822088           0.391083  ...           0.532500   \n",
       "1              42.997953           0.324818  ...           0.555818   \n",
       "2              38.232628           0.364800  ...           0.533600   \n",
       "\n",
       "   Team2_Wins_Opp  Team2_Losses_Opp  Team2_Win_Pct_Opp  Team2_is_B2B_Opp  \\\n",
       "0             8.0               4.0           0.666667                 0   \n",
       "1             8.0               3.0           0.727273                 0   \n",
       "2             6.0               4.0           0.600000                 0   \n",
       "\n",
       "   Team2_is_B2B_First_Opp  Team2_is_B2B_Second_Opp  Team2_Days_Rest_Team_Opp  \\\n",
       "0                       0                        0                       2.0   \n",
       "1                       0                        0                       2.0   \n",
       "2                       0                        0                       2.0   \n",
       "\n",
       "   Team2_Days_Next Game_Opp  Team2_is_Home_Opp  \n",
       "0                       2.0                  1  \n",
       "1                       2.0                  1  \n",
       "2                       2.0                  1  \n",
       "\n",
       "[3 rows x 208 columns]"
      ]
     },
     "execution_count": 67,
     "metadata": {},
     "output_type": "execute_result"
    }
   ],
   "source": [
    "todays_stats.head()"
   ]
  },
  {
   "cell_type": "code",
   "execution_count": 74,
   "metadata": {},
   "outputs": [
    {
     "data": {
      "text/plain": [
       "0    40.805677\n",
       "1    41.284110\n",
       "2    40.554408\n",
       "Name: Team2_FGM_Per100_Agg, dtype: float64"
      ]
     },
     "execution_count": 74,
     "metadata": {},
     "output_type": "execute_result"
    }
   ],
   "source": [
    "todays_stats.iloc[:, 106]"
   ]
  },
  {
   "cell_type": "code",
   "execution_count": null,
   "metadata": {},
   "outputs": [],
   "source": [
    "#101"
   ]
  }
 ],
 "metadata": {
  "kernelspec": {
   "display_name": "Python 3",
   "language": "python",
   "name": "python3"
  },
  "language_info": {
   "codemirror_mode": {
    "name": "ipython",
    "version": 3
   },
   "file_extension": ".py",
   "mimetype": "text/x-python",
   "name": "python",
   "nbconvert_exporter": "python",
   "pygments_lexer": "ipython3",
   "version": "3.7.6"
  }
 },
 "nbformat": 4,
 "nbformat_minor": 4
}
