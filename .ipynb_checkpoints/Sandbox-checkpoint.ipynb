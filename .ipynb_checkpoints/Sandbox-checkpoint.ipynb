{
 "cells": [
  {
   "cell_type": "code",
   "execution_count": 6,
   "metadata": {},
   "outputs": [],
   "source": [
    "from current_season_code.functions import *\n",
    "import pandas as pd\n",
    "import numpy as np\n",
    "from selenium import webdriver\n",
    "from selenium.webdriver.common.keys import Keys\n",
    "from selenium.webdriver.chrome.options import Options\n",
    "from selenium.webdriver.common.by import By\n",
    "from selenium.webdriver.support import expected_conditions as EC\n",
    "from selenium.webdriver.support.ui import WebDriverWait\n",
    "from selenium.webdriver.support.ui import Select\n",
    "from webdriver_manager.chrome import ChromeDriverManager"
   ]
  },
  {
   "cell_type": "code",
   "execution_count": 2,
   "metadata": {},
   "outputs": [],
   "source": [
    "bets = pd.read_csv('current_season_data/bets.csv', index_col = 0)"
   ]
  },
  {
   "cell_type": "code",
   "execution_count": 3,
   "metadata": {},
   "outputs": [
    {
     "data": {
      "text/html": [
       "<div>\n",
       "<style scoped>\n",
       "    .dataframe tbody tr th:only-of-type {\n",
       "        vertical-align: middle;\n",
       "    }\n",
       "\n",
       "    .dataframe tbody tr th {\n",
       "        vertical-align: top;\n",
       "    }\n",
       "\n",
       "    .dataframe thead th {\n",
       "        text-align: right;\n",
       "    }\n",
       "</style>\n",
       "<table border=\"1\" class=\"dataframe\">\n",
       "  <thead>\n",
       "    <tr style=\"text-align: right;\">\n",
       "      <th></th>\n",
       "      <th>Team1</th>\n",
       "      <th>Team2</th>\n",
       "      <th>Team1_KC</th>\n",
       "      <th>Team2_KC</th>\n",
       "      <th>Team1_Bet</th>\n",
       "      <th>Team2_Bet</th>\n",
       "    </tr>\n",
       "  </thead>\n",
       "  <tbody>\n",
       "    <tr>\n",
       "      <th>0</th>\n",
       "      <td>Clippers</td>\n",
       "      <td>Warriors</td>\n",
       "      <td>0.000000</td>\n",
       "      <td>0.014873</td>\n",
       "      <td>0.000000</td>\n",
       "      <td>1325.004572</td>\n",
       "    </tr>\n",
       "    <tr>\n",
       "      <th>1</th>\n",
       "      <td>Pacers</td>\n",
       "      <td>Bucks</td>\n",
       "      <td>0.020463</td>\n",
       "      <td>0.000000</td>\n",
       "      <td>1822.909263</td>\n",
       "      <td>0.000000</td>\n",
       "    </tr>\n",
       "    <tr>\n",
       "      <th>2</th>\n",
       "      <td>Raptors</td>\n",
       "      <td>Celtics</td>\n",
       "      <td>0.006827</td>\n",
       "      <td>0.000000</td>\n",
       "      <td>608.205329</td>\n",
       "      <td>0.000000</td>\n",
       "    </tr>\n",
       "    <tr>\n",
       "      <th>3</th>\n",
       "      <td>Grizzlies</td>\n",
       "      <td>Kings</td>\n",
       "      <td>0.016964</td>\n",
       "      <td>0.000000</td>\n",
       "      <td>1511.209376</td>\n",
       "      <td>0.000000</td>\n",
       "    </tr>\n",
       "    <tr>\n",
       "      <th>4</th>\n",
       "      <td>Lakers</td>\n",
       "      <td>Pistons</td>\n",
       "      <td>0.000000</td>\n",
       "      <td>0.006451</td>\n",
       "      <td>0.000000</td>\n",
       "      <td>574.664863</td>\n",
       "    </tr>\n",
       "  </tbody>\n",
       "</table>\n",
       "</div>"
      ],
      "text/plain": [
       "       Team1     Team2  Team1_KC  Team2_KC    Team1_Bet    Team2_Bet\n",
       "0   Clippers  Warriors  0.000000  0.014873     0.000000  1325.004572\n",
       "1     Pacers     Bucks  0.020463  0.000000  1822.909263     0.000000\n",
       "2    Raptors   Celtics  0.006827  0.000000   608.205329     0.000000\n",
       "3  Grizzlies     Kings  0.016964  0.000000  1511.209376     0.000000\n",
       "4     Lakers   Pistons  0.000000  0.006451     0.000000   574.664863"
      ]
     },
     "execution_count": 3,
     "metadata": {},
     "output_type": "execute_result"
    }
   ],
   "source": [
    "bets[['Team1', 'Team2', 'Team1_KC', 'Team2_KC', 'Team1_Bet', 'Team2_Bet']]"
   ]
  },
  {
   "cell_type": "code",
   "execution_count": 52,
   "metadata": {},
   "outputs": [
    {
     "name": "stderr",
     "output_type": "stream",
     "text": [
      "\n",
      "\n",
      "====== WebDriver manager ======\n",
      "Current google-chrome version is 96.0.4664\n",
      "Get LATEST driver version for 96.0.4664\n",
      "Driver [/Users/hsinger24/.wdm/drivers/chromedriver/mac64/96.0.4664.45/chromedriver] found in cache\n"
     ]
    }
   ],
   "source": [
    "# Getting NBA injuries\n",
    "\n",
    "tables = pd.read_html('https://www.cbssports.com/nba/injuries/')\n",
    "driver = webdriver.Chrome(ChromeDriverManager().install())\n",
    "driver.get('https://www.cbssports.com/nba/injuries/')\n",
    "team_names = driver.find_elements_by_xpath('//*[@id=\"TableBase\"]/h4')\n",
    "table_dict = {}\n",
    "for i in range(len(tables)):\n",
    "    table_dict[team_names[i].text] = tables[i]\n",
    "for key,value in table_dict.items():\n",
    "    value['Player'] = value.Player.str.split()\n",
    "    for index, row in value.iterrows():\n",
    "        if len(row.Player) == 4:\n",
    "            value.loc[index, 'Player'] = row.Player[-1] + ' ' + row.Player[-2]\n",
    "        if len(row.Player) == 6:\n",
    "            value.loc[index, 'Player'] = row.Player[-1] + ' ' + row.Player[-2] + ' ' + row.Player[-3]\n",
    "for key,value in table_dict.items():\n",
    "    value['Player'] = value.Player.str.split()\n",
    "    for index, row in value.iterrows():\n",
    "        if len(row.Player) == 2:\n",
    "            value.loc[index, 'Player'] = row.Player[-1] + ' ' + row.Player[-2]\n",
    "        if len(row.Player) == 3:\n",
    "            value.loc[index, 'Player'] = row.Player[-1] + ' ' + row.Player[-2] + ' ' + row.Player[-3]"
   ]
  },
  {
   "cell_type": "code",
   "execution_count": 51,
   "metadata": {},
   "outputs": [
    {
     "data": {
      "text/html": [
       "<div>\n",
       "<style scoped>\n",
       "    .dataframe tbody tr th:only-of-type {\n",
       "        vertical-align: middle;\n",
       "    }\n",
       "\n",
       "    .dataframe tbody tr th {\n",
       "        vertical-align: top;\n",
       "    }\n",
       "\n",
       "    .dataframe thead th {\n",
       "        text-align: right;\n",
       "    }\n",
       "</style>\n",
       "<table border=\"1\" class=\"dataframe\">\n",
       "  <thead>\n",
       "    <tr style=\"text-align: right;\">\n",
       "      <th></th>\n",
       "      <th>Player</th>\n",
       "      <th>Position</th>\n",
       "      <th>Updated</th>\n",
       "      <th>Injury</th>\n",
       "      <th>Injury Status</th>\n",
       "    </tr>\n",
       "  </thead>\n",
       "  <tbody>\n",
       "    <tr>\n",
       "      <th>0</th>\n",
       "      <td>Jaylen Brown</td>\n",
       "      <td>SG</td>\n",
       "      <td>Sat, Nov 27</td>\n",
       "      <td>Rest</td>\n",
       "      <td>Game Time Decision</td>\n",
       "    </tr>\n",
       "    <tr>\n",
       "      <th>1</th>\n",
       "      <td>Robert Williams III</td>\n",
       "      <td>C</td>\n",
       "      <td>Sat, Nov 27</td>\n",
       "      <td>Illness</td>\n",
       "      <td>Expected to be out until at least Dec 1</td>\n",
       "    </tr>\n",
       "    <tr>\n",
       "      <th>2</th>\n",
       "      <td>Dennis Schroder</td>\n",
       "      <td>PG</td>\n",
       "      <td>Sat, Nov 27</td>\n",
       "      <td>Ankle</td>\n",
       "      <td>Expected to be out until at least Dec 1</td>\n",
       "    </tr>\n",
       "  </tbody>\n",
       "</table>\n",
       "</div>"
      ],
      "text/plain": [
       "                Player Position      Updated   Injury  \\\n",
       "0         Jaylen Brown       SG  Sat, Nov 27     Rest   \n",
       "1  Robert Williams III        C  Sat, Nov 27  Illness   \n",
       "2      Dennis Schroder       PG  Sat, Nov 27    Ankle   \n",
       "\n",
       "                             Injury Status  \n",
       "0                       Game Time Decision  \n",
       "1  Expected to be out until at least Dec 1  \n",
       "2  Expected to be out until at least Dec 1  "
      ]
     },
     "execution_count": 51,
     "metadata": {},
     "output_type": "execute_result"
    }
   ],
   "source": [
    "# Getting NBA stats\n",
    "\n"
   ]
  },
  {
   "cell_type": "code",
   "execution_count": null,
   "metadata": {},
   "outputs": [],
   "source": []
  }
 ],
 "metadata": {
  "kernelspec": {
   "display_name": "Python 3",
   "language": "python",
   "name": "python3"
  },
  "language_info": {
   "codemirror_mode": {
    "name": "ipython",
    "version": 3
   },
   "file_extension": ".py",
   "mimetype": "text/x-python",
   "name": "python",
   "nbconvert_exporter": "python",
   "pygments_lexer": "ipython3",
   "version": "3.7.6"
  }
 },
 "nbformat": 4,
 "nbformat_minor": 4
}
