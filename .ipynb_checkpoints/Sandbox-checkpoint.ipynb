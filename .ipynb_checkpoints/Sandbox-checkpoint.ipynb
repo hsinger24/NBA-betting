{
 "cells": [
  {
   "cell_type": "code",
   "execution_count": 1,
   "metadata": {},
   "outputs": [],
   "source": [
    "from current_season_code.functions import *"
   ]
  },
  {
   "cell_type": "code",
   "execution_count": 91,
   "metadata": {},
   "outputs": [],
   "source": [
    "def kelly_criterion(row):\n",
    "    if row['Team1_Prob_Diff'] < 0:\n",
    "        return 0\n",
    "    else:\n",
    "        p = row['Team1_Prob']\n",
    "        q = 1-p\n",
    "        ml = row['Home_Odds']\n",
    "        if ml>=0:\n",
    "            b = (ml/100)\n",
    "        if ml<0:\n",
    "            b = (100/abs(ml))\n",
    "        kc = ((p*b) - q) / b\n",
    "        if (kc > 0.5) & (kc<0.6):\n",
    "            return kc/(kelly+2)\n",
    "        if (kc > 0.6) & (kc<0.7):\n",
    "            return kc/(kelly+4)\n",
    "        if kc > 0.7:\n",
    "            return kc/(kelly+7)\n",
    "        else:\n",
    "            return kc/kelly\n",
    "def kelly_criterion_2(row):\n",
    "    if row['Team2_Prob_Diff'] < 0:\n",
    "        return 0\n",
    "    else:\n",
    "        p = row['Team2_Prob']\n",
    "        q = 1-p\n",
    "        ml = row['Away_Odds']\n",
    "        if ml>=0:\n",
    "            b = (ml/100)\n",
    "        if ml<0:\n",
    "            b = (100/abs(ml))\n",
    "        kc = ((p*b) - q) / b\n",
    "        if (kc > 0.5) & (kc<0.6):\n",
    "            return kc/(kelly+2)\n",
    "        if (kc > 0.6) & (kc<0.7):\n",
    "            return kc/(kelly+4)\n",
    "        if kc > 0.7:\n",
    "            return kc/(kelly+7)\n",
    "        else:\n",
    "            return kc/kelly\n",
    "todays_capital = 100000\n",
    "ml_param = -1750\n",
    "ml_param_underdog = 1000\n",
    "small_advantage = .025\n",
    "kelly = 12"
   ]
  },
  {
   "cell_type": "code",
   "execution_count": 87,
   "metadata": {},
   "outputs": [
    {
     "name": "stderr",
     "output_type": "stream",
     "text": [
      "\n",
      "\n",
      "====== WebDriver manager ======\n",
      "Current google-chrome version is 95.0.4638\n",
      "Get LATEST driver version for 95.0.4638\n",
      "Driver [/Users/hsinger24/.wdm/drivers/chromedriver/mac64/95.0.4638.69/chromedriver] found in cache\n"
     ]
    }
   ],
   "source": [
    "prob_output = pd.read_csv('current_season_data/todays_stats.csv', index_col = 0)\n",
    "odds = retrieve_odds(save = False)\n",
    "odds = odds[['Home_Team', 'Home_Odds', 'Away_Odds', 'Home_Prob', 'Away_Prob']]\n",
    "merged = pd.merge(prob_output, odds, left_on = 'Team1', right_on = 'Home_Team')\n",
    "merged.drop(['Home_Team', 'X'], axis = 1, inplace = True)\n",
    "merged['Team2_Prob'] = 1-merged.Team1_Prob\n",
    "merged['Team1_Prob_Diff'] = merged.Team1_Prob - merged.Home_Prob\n",
    "merged['Team2_Prob_Diff'] = merged.Team2_Prob - merged.Away_Prob\n",
    "merged['Team1_KC'] = merged.apply(kelly_criterion, axis = 1)\n",
    "merged['Team2_KC'] = merged.apply(kelly_criterion_2, axis = 1)\n",
    "merged['Team1_Bet'] = 0\n",
    "merged['Team2_Bet'] = 0\n",
    "merged['Team1_Payoff'] = 0\n",
    "merged['Team2_Payoff'] = 0"
   ]
  },
  {
   "cell_type": "code",
   "execution_count": null,
   "metadata": {},
   "outputs": [],
   "source": [
    "for index, row in merged.iterrows():\n",
    "    if (row.Team1_KC == 0) & (row.Team2_KC == 0):\n",
    "        merged.loc[index, 'Team1_Bet'] = 0\n",
    "        merged.loc[index, 'Team2_Bet'] = 0\n",
    "        continue\n",
    "    if ((row.Team1_Prob_Diff<0) & (row.Team2_Prob_Diff<small_advantage)) | ((row.Team1_Prob_Diff<small_advantage) & (row.Team2_Prob_Diff<0)):\n",
    "        merged.loc[index, 'Team1_Bet'] = 0\n",
    "        merged.loc[index, 'Team2_Bet'] = 0\n",
    "        continue\n",
    "        \n",
    "    if row.Team1_KC>0:\n",
    "        merged.loc[index, 'Team1_Bet'] = todays_capital*row.Team1_KC\n",
    "    if row.Team2_KC>0:\n",
    "        merged.loc[index, 'Team2_Bet'] = todays_capital*row.Team2_KC\n",
    "    \n",
    "    if merged.loc[index, 'Team1_Bet']>0:\n",
    "        if row.Home_Odds<0:\n",
    "            merged.loc[index, 'Team1_Payoff'] = (merged.loc[index, 'Team1_Bet']/abs(row.Home_Odds))*100\n",
    "        if row.Home_Odds>0:\n",
    "            merged.loc[index, 'Team1_Payoff'] = merged.loc[index, 'Team1_Bet'] * (row.Team1_ML/100)\n",
    "    if merged.loc[index, 'Team2_Bet']>0:\n",
    "        if row.Away_Odds<0:\n",
    "            merged.loc[index, 'Team2_Payoff'] = (merged.loc[index, 'Team2_Bet']/abs(row.Away_Odds))*100\n",
    "        if row.Team2_ML>0:\n",
    "            merged.loc[index, 'Team2_Payoff'] = merged.loc[index, 'Team2_Bet'] * (row.Away_Odds/100)\n",
    "    \n",
    "    if (merged.loc[index, 'Team1_Bet']>0) & (row.Home_Odds<ml_param):\n",
    "        merged.loc[index, 'Team1_Bet'] = 0\n",
    "        merged.loc[index, 'Team1_Payoff'] = 0\n",
    "        continue\n",
    "    if (merged.loc[index, 'Team2_Bet']>0) & (row.Away_Odds<ml_param):\n",
    "        merged.loc[index, 'Team2_Bet'] = 0\n",
    "        merged.loc[index, 'Team2_Payoff'] = 0\n",
    "        continue\n",
    "    if (merged.loc[index, 'Team1_Bet']>0) & (row.Home_Odds>ml_param_underdog):\n",
    "        merged.loc[index, 'Team1_Bet'] = 0\n",
    "        merged.loc[index, 'Team1_Payoff'] = 0\n",
    "        continue\n",
    "    if (merged.loc[index, 'Team2_Bet']>0) & (row.Away_Odds>ml_param_underdog):\n",
    "        merged.loc[index, 'Team2_Bet'] = 0\n",
    "        merged.loc[index, 'Team2_Payoff'] = 0\n",
    "        continue"
   ]
  }
 ],
 "metadata": {
  "kernelspec": {
   "display_name": "Python 3",
   "language": "python",
   "name": "python3"
  },
  "language_info": {
   "codemirror_mode": {
    "name": "ipython",
    "version": 3
   },
   "file_extension": ".py",
   "mimetype": "text/x-python",
   "name": "python",
   "nbconvert_exporter": "python",
   "pygments_lexer": "ipython3",
   "version": "3.7.6"
  }
 },
 "nbformat": 4,
 "nbformat_minor": 4
}
